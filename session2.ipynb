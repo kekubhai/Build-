{
 "cells": [
  {
   "cell_type": "code",
   "execution_count": null,
   "id": "71c5b86b",
   "metadata": {
    "vscode": {
     "languageId": "plaintext"
    }
   },
   "outputs": [],
   "source": [
    "!pip install -q \"crewai>=0.165.1\" \"google-generativeai==0.8.5\" \"newsapi-python>=0.2.7\" \"pyparsing>=3.2.3\""
   ]
  },
  {
   "cell_type": "code",
   "execution_count": null,
   "id": "c389d276",
   "metadata": {
    "vscode": {
     "languageId": "plaintext"
    }
   },
   "outputs": [],
   "source": [
    "crewai\n",
    "newsapi"
   ]
  },
  {
   "cell_type": "code",
   "execution_count": null,
   "id": "a157088a",
   "metadata": {
    "vscode": {
     "languageId": "plaintext"
    }
   },
   "outputs": [],
   "source": []
  }
 ],
 "metadata": {
  "language_info": {
   "name": "python"
  }
 },
 "nbformat": 4,
 "nbformat_minor": 5
}
